{
 "cells": [
  {
   "cell_type": "markdown",
   "id": "26b96437",
   "metadata": {},
   "source": [
    "# Longest Substring Without Reapeating Characters\n",
    "### Give a string s, find the length of the longest substring whitout repeating characters."
   ]
  },
  {
   "cell_type": "code",
   "execution_count": 24,
   "id": "9e70c260",
   "metadata": {},
   "outputs": [
    {
     "name": "stdout",
     "output_type": "stream",
     "text": [
      "3\n"
     ]
    }
   ],
   "source": [
    "#Definimos una función llamada: length_of_longest_substring y su argumento para identificar que será cadena, sería el (s):\n",
    "def length_of_longest_substring(s):\n",
    "    #Sus variables declaradas, creando un diccionario para seguir la cadena, el 0 en longitud maxima para indicarle que inicie en 0 y no se repite los caracteres, lo mismo con la variable inicio:\n",
    "    diccionario = {}\n",
    "    longitud_maxima = 0\n",
    "    inicio = 0\n",
    "#Iniciamos con un for para el fin del ciclo:\n",
    "    for fin in range(len(s)):\n",
    "        #Agregamos un if para el inicio del ciclo y con el s[fin] validamos si ya existe en el \"diccionario\" y comprobamos si es mayor o igual a 'inicio', en caso de que este en lo correcto el 'inicio' debe actualizrse con lo de el siguiente indice despues de haberse repetido un caracter:\n",
    "        if s[fin] in diccionario and diccionario[s[fin]] >= inicio:\n",
    "            inicio = diccionario[s[fin]] + 1\n",
    "            #Else para si no se cumple la condicion anterior entonces continua con la siguiente, que es el caso contrario que se calcula la longitud de la subcadena actual que tenemos (fin - inicio + 1) y se actualiza longitud_maxima si es necesario:\n",
    "        else:\n",
    "            longitud_maxima = max(longitud_maxima, fin - inicio + 1)\n",
    "        #Se termina el for y se actualiza el diccionario con el ultimo carater s[fin], asignandole a 'fin':\n",
    "        diccionario[s[fin]] = fin\n",
    "#Se retorna la variable de longitud maxima al terminar el bucle/ciclo\n",
    "    return longitud_maxima\n",
    "\n",
    "#Definimos una cadena de prueba:\n",
    "cadena = \"pwwkew\" #\"abcabebb\": 3¿ #\"bbbbb\": 1 #\"pwwkew\": 3\n",
    "#Guardamos la funcion en longitud pasandole la cadena como argumento:\n",
    "longitud = length_of_longest_substring(cadena)\n",
    "#Imprimimos el resultado:\n",
    "print(longitud)  # Salida"
   ]
  },
  {
   "cell_type": "code",
   "execution_count": null,
   "id": "1b9b3860",
   "metadata": {},
   "outputs": [],
   "source": []
  }
 ],
 "metadata": {
  "kernelspec": {
   "display_name": "Python 3",
   "language": "python",
   "name": "python3"
  },
  "language_info": {
   "codemirror_mode": {
    "name": "ipython",
    "version": 3
   },
   "file_extension": ".py",
   "mimetype": "text/x-python",
   "name": "python",
   "nbconvert_exporter": "python",
   "pygments_lexer": "ipython3",
   "version": "3.10.9"
  }
 },
 "nbformat": 4,
 "nbformat_minor": 5
}
